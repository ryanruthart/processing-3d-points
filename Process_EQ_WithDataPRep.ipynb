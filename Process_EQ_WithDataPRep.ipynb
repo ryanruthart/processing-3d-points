{
 "cells": [
  {
   "cell_type": "code",
   "execution_count": 1,
   "metadata": {
    "collapsed": true
   },
   "outputs": [],
   "source": [
    "import os\n",
    "import pandas as pd\n",
    "import arcpy\n",
    "import datetime\n",
    "\n",
    "arcpy.env.overwriteOutput = True"
   ]
  },
  {
   "cell_type": "markdown",
   "metadata": {},
   "source": [
    "Script to preprocess earth quake data for a 3d point density demonstration.\n"
   ]
  },
  {
   "cell_type": "code",
   "execution_count": 2,
   "metadata": {
    "collapsed": true
   },
   "outputs": [],
   "source": [
    "# Set up path variables\n",
    "\n",
    "base_dir = r'C:\\test\\blog\\3dPointDensity\\eq'\n",
    "os.chdir(base_dir)\n",
    "gdb_name = 'Earthquake_density.gdb'\n",
    "base_gdb = os.path.join(base_dir, gdb_name)\n",
    "\n",
    "# If it exists, delete the old working geodatabase for the script\n",
    "if arcpy.Exists(base_gdb):\n",
    "    arcpy.Delete_management(base_gdb)\n",
    "\n",
    "# Create a geodatabase for the script to work in\n",
    "if not arcpy.Exists(base_gdb):\n",
    "    arcpy.management.CreateFileGDB(base_dir, gdb_name, \"CURRENT\")\n",
    "    \n",
    "    "
   ]
  },
  {
   "cell_type": "code",
   "execution_count": 3,
   "metadata": {
    "scrolled": true
   },
   "outputs": [
    {
     "data": {
      "text/plain": [
       "['.ipynb_checkpoints',\n",
       " 'Earthquake_density.gdb',\n",
       " 'Oaklahoma.xlsx',\n",
       " 'Oaklahoma_10000m.swm',\n",
       " 'Oaklahoma_EQ.csv',\n",
       " 'Oaklahoma_EQ_0.csv',\n",
       " 'Process_EQ.ipynb']"
      ]
     },
     "execution_count": 3,
     "metadata": {},
     "output_type": "execute_result"
    }
   ],
   "source": [
    "# List files in the working folder\n",
    "os.listdir()"
   ]
  },
  {
   "cell_type": "markdown",
   "metadata": {},
   "source": [
    "# Data Preparation\n",
    "\n",
    "You can download the data I am using as a csv from http://angp.maps.arcgis.com/home/item.html?id=c4a6a3bbc45748fa9b264e680a981cf5#overview"
   ]
  },
  {
   "cell_type": "code",
   "execution_count": 4,
   "metadata": {},
   "outputs": [],
   "source": [
    "# Read the data into a pandas dataframe\n",
    "df = pd.read_csv('Oaklahoma_EQ_0.csv')"
   ]
  },
  {
   "cell_type": "code",
   "execution_count": 5,
   "metadata": {},
   "outputs": [
    {
     "data": {
      "text/html": [
       "<div>\n",
       "<style>\n",
       "    .dataframe thead tr:only-child th {\n",
       "        text-align: right;\n",
       "    }\n",
       "\n",
       "    .dataframe thead th {\n",
       "        text-align: left;\n",
       "    }\n",
       "\n",
       "    .dataframe tbody tr th {\n",
       "        vertical-align: top;\n",
       "    }\n",
       "</style>\n",
       "<table border=\"1\" class=\"dataframe\">\n",
       "  <thead>\n",
       "    <tr style=\"text-align: right;\">\n",
       "      <th></th>\n",
       "      <th>Year?</th>\n",
       "      <th>Month?</th>\n",
       "      <th>Day?</th>\n",
       "      <th>Time UTC</th>\n",
       "      <th>Mag?</th>\n",
       "      <th>Lat</th>\n",
       "      <th>Lon</th>\n",
       "      <th>Depth_km</th>\n",
       "      <th>Region</th>\n",
       "      <th>IRIS_ID</th>\n",
       "      <th>Timestamp</th>\n",
       "      <th>FID</th>\n",
       "      <th>x</th>\n",
       "      <th>y</th>\n",
       "    </tr>\n",
       "  </thead>\n",
       "  <tbody>\n",
       "    <tr>\n",
       "      <th>0</th>\n",
       "      <td>2016</td>\n",
       "      <td>12</td>\n",
       "      <td>3</td>\n",
       "      <td>7/29/2017 6:28:11 AM</td>\n",
       "      <td>2.7</td>\n",
       "      <td>36.24</td>\n",
       "      <td>-97.00</td>\n",
       "      <td>1.3</td>\n",
       "      <td>OKLAHOMA</td>\n",
       "      <td>5199564</td>\n",
       "      <td>1480746491</td>\n",
       "      <td>1</td>\n",
       "      <td>-97.00</td>\n",
       "      <td>36.24</td>\n",
       "    </tr>\n",
       "    <tr>\n",
       "      <th>1</th>\n",
       "      <td>2016</td>\n",
       "      <td>12</td>\n",
       "      <td>3</td>\n",
       "      <td>7/29/2017 2:21:55 AM</td>\n",
       "      <td>2.4</td>\n",
       "      <td>35.84</td>\n",
       "      <td>-97.38</td>\n",
       "      <td>5.5</td>\n",
       "      <td>OKLAHOMA</td>\n",
       "      <td>5199725</td>\n",
       "      <td>1480731715</td>\n",
       "      <td>2</td>\n",
       "      <td>-97.38</td>\n",
       "      <td>35.84</td>\n",
       "    </tr>\n",
       "    <tr>\n",
       "      <th>2</th>\n",
       "      <td>2016</td>\n",
       "      <td>12</td>\n",
       "      <td>1</td>\n",
       "      <td>7/29/2017 2:43:58 PM</td>\n",
       "      <td>3.0</td>\n",
       "      <td>36.45</td>\n",
       "      <td>-98.73</td>\n",
       "      <td>5.0</td>\n",
       "      <td>OKLAHOMA</td>\n",
       "      <td>5199420</td>\n",
       "      <td>1480603438</td>\n",
       "      <td>3</td>\n",
       "      <td>-98.73</td>\n",
       "      <td>36.45</td>\n",
       "    </tr>\n",
       "    <tr>\n",
       "      <th>3</th>\n",
       "      <td>2016</td>\n",
       "      <td>12</td>\n",
       "      <td>1</td>\n",
       "      <td>7/29/2017 5:16:28 AM</td>\n",
       "      <td>2.4</td>\n",
       "      <td>34.99</td>\n",
       "      <td>-97.88</td>\n",
       "      <td>7.9</td>\n",
       "      <td>OKLAHOMA</td>\n",
       "      <td>5199384</td>\n",
       "      <td>1480569388</td>\n",
       "      <td>4</td>\n",
       "      <td>-97.88</td>\n",
       "      <td>34.99</td>\n",
       "    </tr>\n",
       "    <tr>\n",
       "      <th>4</th>\n",
       "      <td>2016</td>\n",
       "      <td>12</td>\n",
       "      <td>1</td>\n",
       "      <td>7/29/2017 12:05:30 AM</td>\n",
       "      <td>2.7</td>\n",
       "      <td>35.99</td>\n",
       "      <td>-96.79</td>\n",
       "      <td>6.3</td>\n",
       "      <td>OKLAHOMA</td>\n",
       "      <td>5199351</td>\n",
       "      <td>1480550730</td>\n",
       "      <td>5</td>\n",
       "      <td>-96.79</td>\n",
       "      <td>35.99</td>\n",
       "    </tr>\n",
       "  </tbody>\n",
       "</table>\n",
       "</div>"
      ],
      "text/plain": [
       "   Year?  Month?  Day?               Time UTC  Mag?    Lat    Lon  Depth_km  \\\n",
       "0   2016      12     3   7/29/2017 6:28:11 AM   2.7  36.24 -97.00       1.3   \n",
       "1   2016      12     3   7/29/2017 2:21:55 AM   2.4  35.84 -97.38       5.5   \n",
       "2   2016      12     1   7/29/2017 2:43:58 PM   3.0  36.45 -98.73       5.0   \n",
       "3   2016      12     1   7/29/2017 5:16:28 AM   2.4  34.99 -97.88       7.9   \n",
       "4   2016      12     1  7/29/2017 12:05:30 AM   2.7  35.99 -96.79       6.3   \n",
       "\n",
       "     Region  IRIS_ID   Timestamp  FID      x      y  \n",
       "0  OKLAHOMA  5199564  1480746491    1 -97.00  36.24  \n",
       "1  OKLAHOMA  5199725  1480731715    2 -97.38  35.84  \n",
       "2  OKLAHOMA  5199420  1480603438    3 -98.73  36.45  \n",
       "3  OKLAHOMA  5199384  1480569388    4 -97.88  34.99  \n",
       "4  OKLAHOMA  5199351  1480550730    5 -96.79  35.99  "
      ]
     },
     "execution_count": 5,
     "metadata": {},
     "output_type": "execute_result"
    }
   ],
   "source": [
    "# Having a first look at the data\n",
    "df.head()"
   ]
  },
  {
   "cell_type": "code",
   "execution_count": 6,
   "metadata": {},
   "outputs": [],
   "source": [
    "# Remove ? from the column names\n",
    "columns_rename = []\n",
    "for idx, column in enumerate(df.columns):\n",
    "    columns_rename.append(column.replace(\"?\", \"\"))\n",
    "df.columns = columns_rename"
   ]
  },
  {
   "cell_type": "code",
   "execution_count": 7,
   "metadata": {},
   "outputs": [
    {
     "data": {
      "text/html": [
       "<div>\n",
       "<style>\n",
       "    .dataframe thead tr:only-child th {\n",
       "        text-align: right;\n",
       "    }\n",
       "\n",
       "    .dataframe thead th {\n",
       "        text-align: left;\n",
       "    }\n",
       "\n",
       "    .dataframe tbody tr th {\n",
       "        vertical-align: top;\n",
       "    }\n",
       "</style>\n",
       "<table border=\"1\" class=\"dataframe\">\n",
       "  <thead>\n",
       "    <tr style=\"text-align: right;\">\n",
       "      <th></th>\n",
       "      <th>Year</th>\n",
       "      <th>Month</th>\n",
       "      <th>Day</th>\n",
       "      <th>Mag</th>\n",
       "      <th>Lat</th>\n",
       "      <th>Lon</th>\n",
       "      <th>Depth_km</th>\n",
       "      <th>IRIS_ID</th>\n",
       "      <th>Timestamp</th>\n",
       "      <th>FID</th>\n",
       "      <th>x</th>\n",
       "      <th>y</th>\n",
       "    </tr>\n",
       "  </thead>\n",
       "  <tbody>\n",
       "    <tr>\n",
       "      <th>count</th>\n",
       "      <td>1000.000000</td>\n",
       "      <td>1000.000000</td>\n",
       "      <td>1000.000000</td>\n",
       "      <td>1000.000000</td>\n",
       "      <td>1000.000000</td>\n",
       "      <td>1000.000000</td>\n",
       "      <td>1000.000000</td>\n",
       "      <td>1.000000e+03</td>\n",
       "      <td>1.000000e+03</td>\n",
       "      <td>1000.000000</td>\n",
       "      <td>1000.000000</td>\n",
       "      <td>1000.000000</td>\n",
       "    </tr>\n",
       "    <tr>\n",
       "      <th>mean</th>\n",
       "      <td>2016.714000</td>\n",
       "      <td>5.856000</td>\n",
       "      <td>15.264000</td>\n",
       "      <td>2.538700</td>\n",
       "      <td>36.490910</td>\n",
       "      <td>-97.505520</td>\n",
       "      <td>5.400700</td>\n",
       "      <td>9.072625e+06</td>\n",
       "      <td>1.488174e+09</td>\n",
       "      <td>500.500000</td>\n",
       "      <td>-97.505520</td>\n",
       "      <td>36.490910</td>\n",
       "    </tr>\n",
       "    <tr>\n",
       "      <th>std</th>\n",
       "      <td>0.452115</td>\n",
       "      <td>3.617506</td>\n",
       "      <td>8.591048</td>\n",
       "      <td>0.560077</td>\n",
       "      <td>0.548822</td>\n",
       "      <td>1.152305</td>\n",
       "      <td>1.786298</td>\n",
       "      <td>1.977131e+06</td>\n",
       "      <td>7.061316e+06</td>\n",
       "      <td>288.819436</td>\n",
       "      <td>1.152305</td>\n",
       "      <td>0.548822</td>\n",
       "    </tr>\n",
       "    <tr>\n",
       "      <th>min</th>\n",
       "      <td>2016.000000</td>\n",
       "      <td>1.000000</td>\n",
       "      <td>1.000000</td>\n",
       "      <td>0.500000</td>\n",
       "      <td>34.600000</td>\n",
       "      <td>-99.640000</td>\n",
       "      <td>1.000000</td>\n",
       "      <td>5.195462e+06</td>\n",
       "      <td>1.476137e+09</td>\n",
       "      <td>1.000000</td>\n",
       "      <td>-99.640000</td>\n",
       "      <td>34.600000</td>\n",
       "    </tr>\n",
       "    <tr>\n",
       "      <th>25%</th>\n",
       "      <td>2016.000000</td>\n",
       "      <td>3.000000</td>\n",
       "      <td>8.000000</td>\n",
       "      <td>2.200000</td>\n",
       "      <td>36.167500</td>\n",
       "      <td>-98.000000</td>\n",
       "      <td>4.500000</td>\n",
       "      <td>9.948631e+06</td>\n",
       "      <td>1.482225e+09</td>\n",
       "      <td>250.750000</td>\n",
       "      <td>-98.000000</td>\n",
       "      <td>36.167500</td>\n",
       "    </tr>\n",
       "    <tr>\n",
       "      <th>50%</th>\n",
       "      <td>2017.000000</td>\n",
       "      <td>5.000000</td>\n",
       "      <td>15.000000</td>\n",
       "      <td>2.600000</td>\n",
       "      <td>36.445000</td>\n",
       "      <td>-97.650000</td>\n",
       "      <td>5.000000</td>\n",
       "      <td>1.000670e+07</td>\n",
       "      <td>1.488712e+09</td>\n",
       "      <td>500.500000</td>\n",
       "      <td>-97.650000</td>\n",
       "      <td>36.445000</td>\n",
       "    </tr>\n",
       "    <tr>\n",
       "      <th>75%</th>\n",
       "      <td>2017.000000</td>\n",
       "      <td>10.000000</td>\n",
       "      <td>23.000000</td>\n",
       "      <td>2.800000</td>\n",
       "      <td>37.000000</td>\n",
       "      <td>-97.190000</td>\n",
       "      <td>6.400000</td>\n",
       "      <td>1.015701e+07</td>\n",
       "      <td>1.494476e+09</td>\n",
       "      <td>750.250000</td>\n",
       "      <td>-97.190000</td>\n",
       "      <td>37.000000</td>\n",
       "    </tr>\n",
       "    <tr>\n",
       "      <th>max</th>\n",
       "      <td>2017.000000</td>\n",
       "      <td>12.000000</td>\n",
       "      <td>31.000000</td>\n",
       "      <td>5.000000</td>\n",
       "      <td>38.950000</td>\n",
       "      <td>-91.390000</td>\n",
       "      <td>14.300000</td>\n",
       "      <td>1.027615e+07</td>\n",
       "      <td>1.500162e+09</td>\n",
       "      <td>1000.000000</td>\n",
       "      <td>-91.390000</td>\n",
       "      <td>38.950000</td>\n",
       "    </tr>\n",
       "  </tbody>\n",
       "</table>\n",
       "</div>"
      ],
      "text/plain": [
       "              Year        Month          Day          Mag          Lat  \\\n",
       "count  1000.000000  1000.000000  1000.000000  1000.000000  1000.000000   \n",
       "mean   2016.714000     5.856000    15.264000     2.538700    36.490910   \n",
       "std       0.452115     3.617506     8.591048     0.560077     0.548822   \n",
       "min    2016.000000     1.000000     1.000000     0.500000    34.600000   \n",
       "25%    2016.000000     3.000000     8.000000     2.200000    36.167500   \n",
       "50%    2017.000000     5.000000    15.000000     2.600000    36.445000   \n",
       "75%    2017.000000    10.000000    23.000000     2.800000    37.000000   \n",
       "max    2017.000000    12.000000    31.000000     5.000000    38.950000   \n",
       "\n",
       "               Lon     Depth_km       IRIS_ID     Timestamp          FID  \\\n",
       "count  1000.000000  1000.000000  1.000000e+03  1.000000e+03  1000.000000   \n",
       "mean    -97.505520     5.400700  9.072625e+06  1.488174e+09   500.500000   \n",
       "std       1.152305     1.786298  1.977131e+06  7.061316e+06   288.819436   \n",
       "min     -99.640000     1.000000  5.195462e+06  1.476137e+09     1.000000   \n",
       "25%     -98.000000     4.500000  9.948631e+06  1.482225e+09   250.750000   \n",
       "50%     -97.650000     5.000000  1.000670e+07  1.488712e+09   500.500000   \n",
       "75%     -97.190000     6.400000  1.015701e+07  1.494476e+09   750.250000   \n",
       "max     -91.390000    14.300000  1.027615e+07  1.500162e+09  1000.000000   \n",
       "\n",
       "                 x            y  \n",
       "count  1000.000000  1000.000000  \n",
       "mean    -97.505520    36.490910  \n",
       "std       1.152305     0.548822  \n",
       "min     -99.640000    34.600000  \n",
       "25%     -98.000000    36.167500  \n",
       "50%     -97.650000    36.445000  \n",
       "75%     -97.190000    37.000000  \n",
       "max     -91.390000    38.950000  "
      ]
     },
     "execution_count": 7,
     "metadata": {},
     "output_type": "execute_result"
    }
   ],
   "source": [
    "df.describe()"
   ]
  },
  {
   "cell_type": "markdown",
   "metadata": {},
   "source": [
    "The data has both a Year, Month, Day column and a [unix timestamp](http://www.unixtimestamp.com). I want to convert\n",
    "this into a full date time field for my analysis"
   ]
  },
  {
   "cell_type": "code",
   "execution_count": 8,
   "metadata": {
    "collapsed": true
   },
   "outputs": [],
   "source": [
    "def timestamp_to_date(x):\n",
    "    \"\"\"Funciton to convert time stamp into formatted date\n",
    "    The time stamp is the number of seconds since Jan 01 1970. (UTC)\"\"\"\n",
    "    return datetime.datetime.fromtimestamp(\n",
    "        int(x['Timestamp'])\n",
    "    ).strftime('%Y-%m-%d %H:%M:%S')"
   ]
  },
  {
   "cell_type": "code",
   "execution_count": 9,
   "metadata": {},
   "outputs": [
    {
     "name": "stdout",
     "output_type": "stream",
     "text": [
      "Row: \n",
      "\n",
      "   Year  Month  Day              Time UTC  Mag    Lat   Lon  Depth_km  \\\n",
      "0  2016     12    3  7/29/2017 6:28:11 AM  2.7  36.24 -97.0       1.3   \n",
      "\n",
      "     Region  IRIS_ID   Timestamp  FID     x      y  \n",
      "0  OKLAHOMA  5199564  1480746491    1 -97.0  36.24  \n",
      "\n",
      "Converted time stamp: \n",
      "\n",
      "2016-12-02 22:28:11\n"
     ]
    }
   ],
   "source": [
    "# Test the timestamp function on a date\n",
    "print(\"Row: \\n\")\n",
    "print(df[:1])\n",
    "print(\"\\nConverted time stamp: \\n\")\n",
    "print(timestamp_to_date(df[:1]))"
   ]
  },
  {
   "cell_type": "markdown",
   "metadata": {},
   "source": [
    "The time stamp conversion looks like it worked."
   ]
  },
  {
   "cell_type": "code",
   "execution_count": 10,
   "metadata": {
    "collapsed": true
   },
   "outputs": [],
   "source": [
    "#####\n",
    "# Data preparation\n",
    "\n",
    "# Create a new row by applying the timestamp formula to the dataframe\n",
    "df['Date'] = df.apply(timestamp_to_date, axis=1)\n",
    "\n",
    "# Change depth to a negative number so it is below ground\n",
    "df['Depth_km'] = -df['Depth_km']\n",
    "\n",
    "# Create a depth in meters field\n",
    "df['Depth_m'] = df['Depth_km'] * 1000\n",
    "\n",
    "# Create a unique ID column\n",
    "df['MYID'] = df.index"
   ]
  },
  {
   "cell_type": "code",
   "execution_count": 11,
   "metadata": {},
   "outputs": [
    {
     "data": {
      "text/html": [
       "<div>\n",
       "<style>\n",
       "    .dataframe thead tr:only-child th {\n",
       "        text-align: right;\n",
       "    }\n",
       "\n",
       "    .dataframe thead th {\n",
       "        text-align: left;\n",
       "    }\n",
       "\n",
       "    .dataframe tbody tr th {\n",
       "        vertical-align: top;\n",
       "    }\n",
       "</style>\n",
       "<table border=\"1\" class=\"dataframe\">\n",
       "  <thead>\n",
       "    <tr style=\"text-align: right;\">\n",
       "      <th></th>\n",
       "      <th>Year</th>\n",
       "      <th>Month</th>\n",
       "      <th>Day</th>\n",
       "      <th>Time UTC</th>\n",
       "      <th>Mag</th>\n",
       "      <th>Lat</th>\n",
       "      <th>Lon</th>\n",
       "      <th>Depth_km</th>\n",
       "      <th>Region</th>\n",
       "      <th>IRIS_ID</th>\n",
       "      <th>Timestamp</th>\n",
       "      <th>FID</th>\n",
       "      <th>x</th>\n",
       "      <th>y</th>\n",
       "      <th>Date</th>\n",
       "      <th>Depth_m</th>\n",
       "      <th>MYID</th>\n",
       "    </tr>\n",
       "  </thead>\n",
       "  <tbody>\n",
       "    <tr>\n",
       "      <th>0</th>\n",
       "      <td>2016</td>\n",
       "      <td>12</td>\n",
       "      <td>3</td>\n",
       "      <td>7/29/2017 6:28:11 AM</td>\n",
       "      <td>2.7</td>\n",
       "      <td>36.24</td>\n",
       "      <td>-97.00</td>\n",
       "      <td>-1.3</td>\n",
       "      <td>OKLAHOMA</td>\n",
       "      <td>5199564</td>\n",
       "      <td>1480746491</td>\n",
       "      <td>1</td>\n",
       "      <td>-97.00</td>\n",
       "      <td>36.24</td>\n",
       "      <td>2016-12-02 22:28:11</td>\n",
       "      <td>-1300.0</td>\n",
       "      <td>0</td>\n",
       "    </tr>\n",
       "    <tr>\n",
       "      <th>1</th>\n",
       "      <td>2016</td>\n",
       "      <td>12</td>\n",
       "      <td>3</td>\n",
       "      <td>7/29/2017 2:21:55 AM</td>\n",
       "      <td>2.4</td>\n",
       "      <td>35.84</td>\n",
       "      <td>-97.38</td>\n",
       "      <td>-5.5</td>\n",
       "      <td>OKLAHOMA</td>\n",
       "      <td>5199725</td>\n",
       "      <td>1480731715</td>\n",
       "      <td>2</td>\n",
       "      <td>-97.38</td>\n",
       "      <td>35.84</td>\n",
       "      <td>2016-12-02 18:21:55</td>\n",
       "      <td>-5500.0</td>\n",
       "      <td>1</td>\n",
       "    </tr>\n",
       "    <tr>\n",
       "      <th>2</th>\n",
       "      <td>2016</td>\n",
       "      <td>12</td>\n",
       "      <td>1</td>\n",
       "      <td>7/29/2017 2:43:58 PM</td>\n",
       "      <td>3.0</td>\n",
       "      <td>36.45</td>\n",
       "      <td>-98.73</td>\n",
       "      <td>-5.0</td>\n",
       "      <td>OKLAHOMA</td>\n",
       "      <td>5199420</td>\n",
       "      <td>1480603438</td>\n",
       "      <td>3</td>\n",
       "      <td>-98.73</td>\n",
       "      <td>36.45</td>\n",
       "      <td>2016-12-01 06:43:58</td>\n",
       "      <td>-5000.0</td>\n",
       "      <td>2</td>\n",
       "    </tr>\n",
       "    <tr>\n",
       "      <th>3</th>\n",
       "      <td>2016</td>\n",
       "      <td>12</td>\n",
       "      <td>1</td>\n",
       "      <td>7/29/2017 5:16:28 AM</td>\n",
       "      <td>2.4</td>\n",
       "      <td>34.99</td>\n",
       "      <td>-97.88</td>\n",
       "      <td>-7.9</td>\n",
       "      <td>OKLAHOMA</td>\n",
       "      <td>5199384</td>\n",
       "      <td>1480569388</td>\n",
       "      <td>4</td>\n",
       "      <td>-97.88</td>\n",
       "      <td>34.99</td>\n",
       "      <td>2016-11-30 21:16:28</td>\n",
       "      <td>-7900.0</td>\n",
       "      <td>3</td>\n",
       "    </tr>\n",
       "    <tr>\n",
       "      <th>4</th>\n",
       "      <td>2016</td>\n",
       "      <td>12</td>\n",
       "      <td>1</td>\n",
       "      <td>7/29/2017 12:05:30 AM</td>\n",
       "      <td>2.7</td>\n",
       "      <td>35.99</td>\n",
       "      <td>-96.79</td>\n",
       "      <td>-6.3</td>\n",
       "      <td>OKLAHOMA</td>\n",
       "      <td>5199351</td>\n",
       "      <td>1480550730</td>\n",
       "      <td>5</td>\n",
       "      <td>-96.79</td>\n",
       "      <td>35.99</td>\n",
       "      <td>2016-11-30 16:05:30</td>\n",
       "      <td>-6300.0</td>\n",
       "      <td>4</td>\n",
       "    </tr>\n",
       "  </tbody>\n",
       "</table>\n",
       "</div>"
      ],
      "text/plain": [
       "   Year  Month  Day               Time UTC  Mag    Lat    Lon  Depth_km  \\\n",
       "0  2016     12    3   7/29/2017 6:28:11 AM  2.7  36.24 -97.00      -1.3   \n",
       "1  2016     12    3   7/29/2017 2:21:55 AM  2.4  35.84 -97.38      -5.5   \n",
       "2  2016     12    1   7/29/2017 2:43:58 PM  3.0  36.45 -98.73      -5.0   \n",
       "3  2016     12    1   7/29/2017 5:16:28 AM  2.4  34.99 -97.88      -7.9   \n",
       "4  2016     12    1  7/29/2017 12:05:30 AM  2.7  35.99 -96.79      -6.3   \n",
       "\n",
       "     Region  IRIS_ID   Timestamp  FID      x      y                 Date  \\\n",
       "0  OKLAHOMA  5199564  1480746491    1 -97.00  36.24  2016-12-02 22:28:11   \n",
       "1  OKLAHOMA  5199725  1480731715    2 -97.38  35.84  2016-12-02 18:21:55   \n",
       "2  OKLAHOMA  5199420  1480603438    3 -98.73  36.45  2016-12-01 06:43:58   \n",
       "3  OKLAHOMA  5199384  1480569388    4 -97.88  34.99  2016-11-30 21:16:28   \n",
       "4  OKLAHOMA  5199351  1480550730    5 -96.79  35.99  2016-11-30 16:05:30   \n",
       "\n",
       "   Depth_m  MYID  \n",
       "0  -1300.0     0  \n",
       "1  -5500.0     1  \n",
       "2  -5000.0     2  \n",
       "3  -7900.0     3  \n",
       "4  -6300.0     4  "
      ]
     },
     "execution_count": 11,
     "metadata": {},
     "output_type": "execute_result"
    }
   ],
   "source": [
    "# Final look at the data\n",
    "df.head()"
   ]
  },
  {
   "cell_type": "code",
   "execution_count": 12,
   "metadata": {
    "collapsed": true
   },
   "outputs": [],
   "source": [
    "# Save the processed data to a csv\n",
    "eq_csv = \"Oaklahoma_EQ.csv\"\n",
    "df.to_csv(eq_csv)"
   ]
  },
  {
   "cell_type": "markdown",
   "metadata": {},
   "source": [
    "# Spatial Data Analysis\n",
    "Now that the data is prepared I will create a feature class using the csv and start working on the spatial data analysis"
   ]
  },
  {
   "cell_type": "code",
   "execution_count": 13,
   "metadata": {},
   "outputs": [
    {
     "data": {
      "text/plain": [
       "<Result 'Oaklahoma_eq'>"
      ]
     },
     "execution_count": 13,
     "metadata": {},
     "output_type": "execute_result"
    }
   ],
   "source": [
    "csv_full_path = os.path.join(base_dir, eq_csv)\n",
    "\n",
    "# Make an X Y event layer out of the csv using latitude, longitude and depth\n",
    "eq_layer_name = \"Oaklahoma_eq\"\n",
    "arcpy.management.MakeXYEventLayer(csv_full_path, \"Lon\", \"Lat\", eq_layer_name, \n",
    "                                  \"GEOGCS['GCS_WGS_1984',DATUM['D_WGS_1984',SPHEROID['WGS_1984',6378137.0,298.257223563]],PRIMEM['Greenwich',0.0],UNIT['Degree',0.0174532925199433]],VERTCS['WGS_1984_Geoid',VDATUM['WGS_1984_Geoid'],PARAMETER['Vertical_Shift',0.0],PARAMETER['Direction',1.0],UNIT['Meter',1.0]];-400 -400 1000000000;-100000 10000;-100000 10000;8.98315284119522E-09;0.001;0.001;IsHighPrecision\",\n",
    "                                  \"Depth_m\")\n"
   ]
  },
  {
   "cell_type": "code",
   "execution_count": 14,
   "metadata": {},
   "outputs": [
    {
     "data": {
      "text/plain": [
       "<Result 'C:\\\\test\\\\blog\\\\3dPointDensity\\\\eq\\\\Earthquake_density.gdb\\\\Oaklahoma_eq'>"
      ]
     },
     "execution_count": 14,
     "metadata": {},
     "output_type": "execute_result"
    }
   ],
   "source": [
    "# Copy the event layer into a feature\n",
    "eq_feature = os.path.join(base_gdb, eq_layer_name)\n",
    "arcpy.management.CopyFeatures(eq_layer_name, eq_feature, None, None, None, None)\n"
   ]
  },
  {
   "cell_type": "code",
   "execution_count": 15,
   "metadata": {},
   "outputs": [
    {
     "name": "stdout",
     "output_type": "stream",
     "text": [
      "C:\\test\\blog\\3dPointDensity\\eq\\Earthquake_density.gdb\\Oaklahoma_eq_Proj\n"
     ]
    }
   ],
   "source": [
    "#Reproject to an equal area projection\n",
    "eq_feature_proj_name = \"{}_Proj\".format(eq_layer_name)\n",
    "eq_feature_proj_path = os.path.join(base_gdb, eq_feature_proj_name)\n",
    "\n",
    "transform_string = \"GEOGCS['GCS_WGS_1984',DATUM['D_WGS_1984',SPHEROID['WGS_1984',6378137.0,298.257223563]],PRIMEM['Greenwich',0.0],UNIT['Degree',0.0174532925199433]],VERTCS['WGS_1984_Geoid',VDATUM['WGS_1984_Geoid'],PARAMETER['Vertical_Shift',0.0],PARAMETER['Direction',1.0],UNIT['Meter',1.0]]\"\n",
    "arcpy.management.Project(r\"C:\\test\\blog\\3dPointDensity\\eq\\Earthquake_density.gdb\\Oaklahoma_eq\", r\"C:\\test\\blog\\3dPointDensity\\eq\\Earthquake_density.gdb\\Oaklahoma_eq_Proj\", \"102003\", \"WGS_1984_(ITRF00)_To_NAD_1983\", transform_string, \"NO_PRESERVE_SHAPE\", None, \"VERTICAL\")\n",
    "\n",
    "print(eq_feature_proj_path)"
   ]
  },
  {
   "cell_type": "markdown",
   "metadata": {},
   "source": [
    "\n",
    "### Spatial Weights Matrix\n",
    "\n",
    "Now the input data is ready as a feature class with x, y and z coordinates. The next step is to create a spatial weights matrix. Using a fixed distance band the tool will count all of the spatial neighbours within the threshold. Since the distance is fixed it will be possible to compare how many neighbours each point has."
   ]
  },
  {
   "cell_type": "code",
   "execution_count": 16,
   "metadata": {
    "scrolled": true
   },
   "outputs": [
    {
     "name": "stdout",
     "output_type": "stream",
     "text": [
      "C:\\test\\blog\\3dPointDensity\\eq\\Earthquake_density.gdb\\Oakalhoma_neighbour_pre_agg\n"
     ]
    }
   ],
   "source": [
    "# Create spatial weights matrix\n",
    "swm_name = \"Oaklahoma_10000m.swm\"\n",
    "swm_path = os.path.join(base_dir, swm_name)\n",
    "if os.path.exists(swm_path):\n",
    "    os.remove(swm_path)\n",
    "r1 = arcpy.stats.GenerateSpatialWeightsMatrix(eq_feature_proj_path, \"MYID\", \n",
    "                                         swm_path, \"FIXED_DISTANCE\", \"EUCLIDEAN\", 1, 10000, 0, \n",
    "                                         \"NO_STANDARDIZATION\", None, None, None, None, \"USE_Z_VALUES\")\n",
    "# Convert SWM to table\n",
    "swm_table = \"Oaklahoma_10000m\"\n",
    "swm_table_fullpath = os.path.join(base_gdb, swm_table)\n",
    "arcpy.stats.ConvertSpatialWeightsMatrixtoTable(swm_path, swm_table_fullpath)\n",
    "\n",
    "#Make a feature layer and a table view for the points and swm table\n",
    "eq_layer_name = \"Oaklahoma_EQ_Neighbours\"\n",
    "arcpy.MakeFeatureLayer_management(eq_feature_proj_path, eq_layer_name)\n",
    "table_view_name = \"Oaklahoma_neighbour_swm\"\n",
    "arcpy.MakeTableView_management(swm_table_fullpath, table_view_name)\n",
    "\n",
    "# Add join to the original data and the table\n",
    "arcpy.management.AddJoin(eq_layer_name, \"MYID\", table_view_name, \"MYID\", \"KEEP_ALL\")\n",
    "# arcpy.management.AddJoin(r\"C:\\test\\blog\\3dPointDensity\\3dPointDensity.gdb\\Oaklahoma_eq\", \"MyID\", r\"C:\\test\\blog\\3dPointDensity\\3dPointDensity.gdb\\Oaklahoma_eq_swm\", \"MyID\", \"KEEP_ALL\")\n",
    "\n",
    "# Copy the joined table to a new file\n",
    "eq_joined_pre_agg = \"Oakalhoma_neighbour_pre_agg\"\n",
    "eq_joined_pre_agg_fullpath = os.path.join(base_gdb, eq_joined_pre_agg)\n",
    "arcpy.management.CopyFeatures(eq_layer_name, eq_joined_pre_agg_fullpath, None, None, None, None)\n",
    "print(eq_joined_pre_agg_fullpath)"
   ]
  },
  {
   "cell_type": "code",
   "execution_count": 17,
   "metadata": {},
   "outputs": [
    {
     "name": "stdout",
     "output_type": "stream",
     "text": [
      "Start Time: Saturday, July 29, 2017 1:29:58 PM\n",
      "Running script GenerateSpatialWeightsMatrix...\n",
      "Constructing spatial weights based on distance criteria....\n",
      "WARNING 000846: 22 feature(s) had no neighbors which generally invalidates the statistical properties of a test.\n",
      "WARNING 000847: Features with no neighbors (only includes first 30): MYID = 3, 61, 75, 170, 228, 273, 374, 435, 451, 489, 598, 615, 665, 669, 777, 793, 851, 877, 878, 942, 954, 964.\n",
      "\n",
      "      Spatial Weights Matrix Summary     \n",
      "Number of Features:                  1000 \n",
      "Percentage of Spatial Connectivity:  2.73 \n",
      "Average Number of Neighbors:         27.27\n",
      "Minimum Number of Neighbors:         0    \n",
      "Maximum Number of Neighbors:         70   \n",
      "\n",
      "Distance measured in Meters\n",
      "\n",
      "Completed script GenerateSpatialWeightsMatrix...\n",
      "Succeeded at Saturday, July 29, 2017 1:29:59 PM (Elapsed Time: 1.00 seconds)\n"
     ]
    }
   ],
   "source": [
    "# Check the detailed result messages\n",
    "for i in range(r1.messageCount):\n",
    "    print(r1.getMessage(i))"
   ]
  },
  {
   "cell_type": "code",
   "execution_count": 18,
   "metadata": {},
   "outputs": [
    {
     "name": "stdout",
     "output_type": "stream",
     "text": [
      "C:\\test\\blog\\3dPointDensity\\eq\\Earthquake_density.gdb\\Oaklahoma_eq_Final\n",
      "Data processing complete\n"
     ]
    }
   ],
   "source": [
    "# The join has create a many to many relationship in our table, there is a row for each MYID and\n",
    "# each of its neighbours, so if MYID 1 has 20 neighbours, there are 20 rows wiht MYID 1\n",
    "# To aggregate the data it is possible to use summary statistics\n",
    "summary_table = \"Oaklahoma_eq_summary\"\n",
    "summary_table_fullpath = os.path.join(base_gdb, summary_table)\n",
    "arcpy.analysis.Statistics(eq_joined_pre_agg_fullpath, summary_table_fullpath, \"Oaklahoma_10000m_WEIGHT SUM\", \n",
    "                          \"Oaklahoma_eq_Proj_MYID\")\n",
    "\n",
    "\n",
    "# Join the summary statistics back to the input points\n",
    "eq_input_layer = \"Oaklahoma_eq_input\"\n",
    "arcpy.MakeFeatureLayer_management(eq_feature_proj_path, eq_input_layer)\n",
    "summary_table_view = \"Oaklahoma_summary_table\"\n",
    "arcpy.MakeTableView_management(summary_table_fullpath, summary_table_view)\n",
    "\n",
    "# Join the two data sets\n",
    "arcpy.management.AddJoin(eq_input_layer, \"MYID\", summary_table_view, \"Oaklahoma_eq_Proj_MYID\", \"KEEP_ALL\")\n",
    "\n",
    "# Copy the results to an output feature class\n",
    "eq_output_final = \"Oaklahoma_eq_Final\"\n",
    "eq_output_final_fullpath = os.path.join(base_gdb, eq_output_final)\n",
    "arcpy.management.CopyFeatures(eq_input_layer, eq_output_final_fullpath, None, None, None, None)\n",
    "\n",
    "# Add the X Y Z attributes to the final output data to check the coordinates look correct\n",
    "arcpy.management.AddXY(eq_output_final_fullpath)\n",
    "\n",
    "# OK! Now we are ready to visualize\n",
    "print(eq_output_final_fullpath)\n",
    "print(\"Data processing complete\")\n"
   ]
  },
  {
   "cell_type": "markdown",
   "metadata": {},
   "source": [
    "[Results Feature Service](https://www.arcgis.com/home/item.html?id=82995f80f5ec4009bb9ff56730ba9a1a/0)\n",
    "\n",
    "[3d Web Scene](http://angp.maps.arcgis.com/home/webscene/viewer.html?webscene=f0249df74b6d4f6dbc5ade6d06618e4f)\n",
    "\n"
   ]
  },
  {
   "cell_type": "code",
   "execution_count": null,
   "metadata": {
    "collapsed": true
   },
   "outputs": [],
   "source": []
  }
 ],
 "metadata": {
  "kernelspec": {
   "display_name": "Python 3",
   "language": "python",
   "name": "python3"
  },
  "language_info": {
   "codemirror_mode": {
    "name": "ipython",
    "version": 3
   },
   "file_extension": ".py",
   "mimetype": "text/x-python",
   "name": "python",
   "nbconvert_exporter": "python",
   "pygments_lexer": "ipython3",
   "version": "3.5.3"
  }
 },
 "nbformat": 4,
 "nbformat_minor": 2
}
