{
 "cells": [
  {
   "cell_type": "code",
   "execution_count": 1,
   "metadata": {
    "collapsed": true
   },
   "outputs": [],
   "source": [
    "import os\n",
    "import pandas as pd\n",
    "import arcpy\n",
    "import datetime\n",
    "\n",
    "arcpy.env.overwriteOutput = True"
   ]
  },
  {
   "cell_type": "markdown",
   "metadata": {},
   "source": [
    "Script to process earth quake data for a 3d point density demonstration.\n"
   ]
  },
  {
   "cell_type": "code",
   "execution_count": 2,
   "metadata": {
    "collapsed": true
   },
   "outputs": [],
   "source": [
    "# Set up path variables\n",
    "\n",
    "base_dir = r'C:\\test\\blog\\3dPointDensity\\eq'  # Base directory I am working in, change to match your folder structure\n",
    "os.chdir(base_dir)\n",
    "gdb_name = 'Earthquake_density.gdb'\n",
    "base_gdb = os.path.join(base_dir, gdb_name)\n",
    "\n",
    "# If it exists, delete the old working geodatabase for the script\n",
    "if arcpy.Exists(base_gdb):\n",
    "    arcpy.Delete_management(base_gdb)\n",
    "\n",
    "# Create a geodatabase for the script to work in\n",
    "if not arcpy.Exists(base_gdb):\n",
    "    arcpy.management.CreateFileGDB(base_dir, gdb_name, \"CURRENT\")\n",
    "    \n",
    "    "
   ]
  },
  {
   "cell_type": "markdown",
   "metadata": {},
   "source": [
    "# Data Source\n",
    "\n",
    "Earthquake data downloaded from the USGS https://earthquake.usgs.gov/fdsnws/event/1/ The data covers the time period from 2007-2017 and is from 33 to 37 degrees longitude and -103 to -94 degrees longitude. The data is shared as a feature service at https://arcg.is/Obv99 or a shapefile at https://arcg.is/01HqX40\n",
    "\n",
    "After downloading the shapefile extract it to your base directory."
   ]
  },
  {
   "cell_type": "markdown",
   "metadata": {},
   "source": [
    "# Spatial Data Analysis\n",
    "\n",
    "Starting with the Oklahoma_EQ shapefile downloaded to your base directory."
   ]
  },
  {
   "cell_type": "code",
   "execution_count": null,
   "metadata": {
    "collapsed": true
   },
   "outputs": [],
   "source": [
    "input_fc_fullpath = os.path.join(base_dir, \"Oklahoma_EQ.shp\")\n"
   ]
  },
  {
   "cell_type": "markdown",
   "metadata": {},
   "source": [
    "\n",
    "### Spatial Weights Matrix\n",
    "\n",
    "Now the input data is a feature class with x, y and z coordinates. First create a spatial weights matrix. Using a fixed distance band the tool will count all of the spatial neighbours within the threshold. Since the distance is fixed it will be possible to compare how many neighbours each point has."
   ]
  },
  {
   "cell_type": "code",
   "execution_count": null,
   "metadata": {
    "scrolled": true
   },
   "outputs": [],
   "source": [
    "# Create spatial weights matrix\n",
    "swm_name = \"Oklahoma_10000m.swm\"\n",
    "swm_path = os.path.join(base_dir, swm_name)\n",
    "if os.path.exists(swm_path):  # Check if the swm file exists, if so delete it\n",
    "    os.remove(swm_path)\n",
    "r1 = arcpy.stats.GenerateSpatialWeightsMatrix(input_fc_fullpath, \"MYID\", \n",
    "                                         swm_path, \"FIXED_DISTANCE\", \"EUCLIDEAN\", 1, 10000, 0, \n",
    "                                         \"NO_STANDARDIZATION\", None, None, None, None, \"USE_Z_VALUES\")\n",
    "# Convert SWM to table\n",
    "swm_table = \"Oklahoma_10000m\"\n",
    "swm_table_fullpath = os.path.join(base_gdb, swm_table)\n",
    "arcpy.stats.ConvertSpatialWeightsMatrixtoTable(swm_path, swm_table_fullpath)\n",
    "\n",
    "# Calculate summary statistics on the SWM table to get the numebr of neighbours within 10000 m for each point\n",
    "swm_summary_table = \"Oklahoma_10000_Summary\"\n",
    "swm_summary_table_fullpath = os.path.join(base_gdb, swm_summary_table)\n",
    "arcpy.analysis.Statistics(swm_table_fullpath, swm_summary_table_fullpath, \"NID COUNT\", \"MYID\")\n",
    "\n",
    "\n",
    "#Make a feature layer and a table view for the points and swm table\n",
    "eq_layer_name = \"Oklahoma_EQ_Neighbours\"\n",
    "arcpy.MakeFeatureLayer_management(input_fc_fullpath, eq_layer_name)\n",
    "table_view_name = \"Oklahoma_neighbour_swm\"\n",
    "arcpy.MakeTableView_management(swm_summary_table_fullpath, table_view_name)\n",
    "\n",
    "# Add join to the original data and the table\n",
    "arcpy.management.AddJoin(eq_layer_name, \"MYID\", table_view_name, \"MYID\", \"KEEP_ALL\")\n",
    "# arcpy.management.AddJoin(r\"C:\\test\\blog\\3dPointDensity\\3dPointDensity.gdb\\Oklahoma_eq\", \"MyID\", r\"C:\\test\\blog\\3dPointDensity\\3dPointDensity.gdb\\Oklahoma_eq_swm\", \"MyID\", \"KEEP_ALL\")\n",
    "\n",
    "# Copy the joined table to a new file\n",
    "eq_joined_pre_agg = \"Oakalhoma_neighbour\"\n",
    "eq_joined_pre_agg_fullpath = os.path.join(base_gdb, eq_joined_pre_agg)\n",
    "arcpy.management.CopyFeatures(eq_layer_name, eq_joined_pre_agg_fullpath, None, None, None, None)\n",
    "print(eq_joined_pre_agg_fullpath)"
   ]
  },
  {
   "cell_type": "code",
   "execution_count": null,
   "metadata": {},
   "outputs": [],
   "source": [
    "# Check the detailed result messages\n",
    "for i in range(r1.messageCount):\n",
    "    print(r1.getMessage(i))"
   ]
  }
 ],
 "metadata": {
  "kernelspec": {
   "display_name": "Python 3",
   "language": "python",
   "name": "python3"
  },
  "language_info": {
   "codemirror_mode": {
    "name": "ipython",
    "version": 3
   },
   "file_extension": ".py",
   "mimetype": "text/x-python",
   "name": "python",
   "nbconvert_exporter": "python",
   "pygments_lexer": "ipython3",
   "version": "3.5.3"
  }
 },
 "nbformat": 4,
 "nbformat_minor": 2
}
